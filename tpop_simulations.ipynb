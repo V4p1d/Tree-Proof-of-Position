{
 "cells": [
  {
   "cell_type": "code",
   "execution_count": 1,
   "metadata": {},
   "outputs": [],
   "source": [
    "import numpy as np\n",
    "import car_class as c\n",
    "import environment_class as e\n",
    "import initialiser_functions as i\n",
    "import tpop as t\n",
    "import tpop_simulation_functions as tsim\n"
   ]
  },
  {
   "cell_type": "code",
   "execution_count": null,
   "metadata": {},
   "outputs": [],
   "source": [
    "depth = 2\n",
    "witness_number_per_depth = [2, 2, 2]\n",
    "London = e.Environment([0,2.5], [0,2.5], 0.25)\n",
    "threshold = 1\n",
    "n = 1000\n",
    "p = 0\n",
    "q = 0\n",
    "number_of_simulations = 100\n",
    "\n",
    "car_list = []\n",
    "for x in range(n):\n",
    "    car = i.car_gen(p, q, London)\n",
    "    car_list.append(car)\n",
    "\n",
    "\n",
    "e.environment_update(car_list, 0.001, London)\n",
    "for car in car_list:\n",
    "    #print(car.coerced)\n",
    "    tree = t.Tree2(car, depth, witness_number_per_depth)\n",
    "    output = t.reverse_bfs(tree, witness_number_per_depth, threshold)\n",
    "True_Positive, True_Negative, False_Positive, False_Negative, True_Positive_cars = t.results(car_list)\n",
    "\n",
    "print(True_Positive, True_Negative, False_Positive, False_Negative)\n",
    "#Tpop is depth 2 nw = [2, 2]\n",
    "# npol is depth 1 nw = all neighbours (or density)\n",
    "#hard code the number of neighbours of each car for NPoL\n"
   ]
  },
  {
   "attachments": {},
   "cell_type": "markdown",
   "metadata": {},
   "source": [
    "## T-PoP with depth 2, threshold 100% and witness_number_per_depth = [2, 2]. 1000 cars in total"
   ]
  },
  {
   "cell_type": "code",
   "execution_count": 2,
   "metadata": {},
   "outputs": [
    {
     "ename": "KeyboardInterrupt",
     "evalue": "",
     "output_type": "error",
     "traceback": [
      "\u001b[0;31m---------------------------------------------------------------------------\u001b[0m",
      "\u001b[0;31mKeyboardInterrupt\u001b[0m                         Traceback (most recent call last)",
      "\u001b[1;32m/Users/pferraro/Library/CloudStorage/OneDrive-ImperialCollegeLondon/Tree-Proof-of-Position/tpop_simulations.ipynb Cell 4\u001b[0m in \u001b[0;36m2\n\u001b[1;32m     <a href='vscode-notebook-cell:/Users/pferraro/Library/CloudStorage/OneDrive-ImperialCollegeLondon/Tree-Proof-of-Position/tpop_simulations.ipynb#W3sZmlsZQ%3D%3D?line=23'>24</a>\u001b[0m number_of_simulations \u001b[39m=\u001b[39m \u001b[39m5\u001b[39m\n\u001b[1;32m     <a href='vscode-notebook-cell:/Users/pferraro/Library/CloudStorage/OneDrive-ImperialCollegeLondon/Tree-Proof-of-Position/tpop_simulations.ipynb#W3sZmlsZQ%3D%3D?line=25'>26</a>\u001b[0m simulation_id \u001b[39m+\u001b[39m\u001b[39m=\u001b[39m \u001b[39m1\u001b[39m\n\u001b[0;32m---> <a href='vscode-notebook-cell:/Users/pferraro/Library/CloudStorage/OneDrive-ImperialCollegeLondon/Tree-Proof-of-Position/tpop_simulations.ipynb#W3sZmlsZQ%3D%3D?line=27'>28</a>\u001b[0m sim_df \u001b[39m=\u001b[39m tsim\u001b[39m.\u001b[39;49mtpop_simulator(number_of_simulations, number_of_cars, probability_honest, probability_coerced, depth, witness_number_per_depth, threshold)\n\u001b[1;32m     <a href='vscode-notebook-cell:/Users/pferraro/Library/CloudStorage/OneDrive-ImperialCollegeLondon/Tree-Proof-of-Position/tpop_simulations.ipynb#W3sZmlsZQ%3D%3D?line=29'>30</a>\u001b[0m sim_pathfile \u001b[39m=\u001b[39m tsim\u001b[39m.\u001b[39msave_simulation(sim_df, path, \u001b[39mstr\u001b[39m(simulation_id) \u001b[39m+\u001b[39m \u001b[39m'\u001b[39m\u001b[39mp_honest\u001b[39m\u001b[39m'\u001b[39m \u001b[39m+\u001b[39m \u001b[39mstr\u001b[39m(probability_honest\u001b[39m*\u001b[39m\u001b[39m100\u001b[39m) \u001b[39m+\u001b[39m \u001b[39m'\u001b[39m\u001b[39mp_coerced\u001b[39m\u001b[39m'\u001b[39m \u001b[39m+\u001b[39m \u001b[39mstr\u001b[39m(probability_coerced\u001b[39m*\u001b[39m\u001b[39m100\u001b[39m)) \n\u001b[1;32m     <a href='vscode-notebook-cell:/Users/pferraro/Library/CloudStorage/OneDrive-ImperialCollegeLondon/Tree-Proof-of-Position/tpop_simulations.ipynb#W3sZmlsZQ%3D%3D?line=31'>32</a>\u001b[0m \u001b[39m#saving the pathfiles of each simulation in the following text file.\u001b[39;00m\n",
      "File \u001b[0;32m~/Library/CloudStorage/OneDrive-ImperialCollegeLondon/Tree-Proof-of-Position/tpop_simulation_functions.py:42\u001b[0m, in \u001b[0;36mtpop_simulator\u001b[0;34m(number_of_simulations, number_of_cars, probability_of_honest, probability_of_coerced, depth, witness_number_per_depth, threshold)\u001b[0m\n\u001b[1;32m     39\u001b[0m     car_list\u001b[39m.\u001b[39mappend(car)\n\u001b[1;32m     41\u001b[0m s\u001b[39m=\u001b[39mtime\u001b[39m.\u001b[39mtime()\n\u001b[0;32m---> 42\u001b[0m environment\u001b[39m.\u001b[39;49menvironment_update(car_list, \u001b[39m0.01\u001b[39;49m)\n\u001b[1;32m     43\u001b[0m env_update \u001b[39m=\u001b[39m time\u001b[39m.\u001b[39mtime() \u001b[39m-\u001b[39m s\n\u001b[1;32m     44\u001b[0m density \u001b[39m=\u001b[39m  number_of_cars \u001b[39m/\u001b[39m (environment\u001b[39m.\u001b[39mwidth \u001b[39m*\u001b[39m environment\u001b[39m.\u001b[39mheight)\n",
      "File \u001b[0;32m~/Library/CloudStorage/OneDrive-ImperialCollegeLondon/Tree-Proof-of-Position/environment_class.py:40\u001b[0m, in \u001b[0;36mEnvironment.environment_update\u001b[0;34m(self, car_list, dt)\u001b[0m\n\u001b[1;32m     37\u001b[0m     car\u001b[39m.\u001b[39mneighbours \u001b[39m=\u001b[39m \u001b[39mset\u001b[39m()\n\u001b[1;32m     39\u001b[0m \u001b[39mfor\u001b[39;00m car \u001b[39min\u001b[39;00m car_list:\n\u001b[0;32m---> 40\u001b[0m     car\u001b[39m.\u001b[39;49madd_neighbours(\u001b[39mself\u001b[39;49m)\n",
      "File \u001b[0;32m~/Library/CloudStorage/OneDrive-ImperialCollegeLondon/Tree-Proof-of-Position/car_class.py:231\u001b[0m, in \u001b[0;36mlying_car.add_neighbours\u001b[0;34m(self, city)\u001b[0m\n\u001b[1;32m    227\u001b[0m \u001b[39melse\u001b[39;00m:\n\u001b[1;32m    229\u001b[0m     \u001b[39mfor\u001b[39;00m alleged_nearby_car \u001b[39min\u001b[39;00m city\u001b[39m.\u001b[39mgrid[grid_square[\u001b[39m0\u001b[39m]][grid_square[\u001b[39m1\u001b[39m]]:\n\u001b[0;32m--> 231\u001b[0m         \u001b[39mif\u001b[39;00m \u001b[39mself\u001b[39;49m\u001b[39m.\u001b[39;49mcoerced \u001b[39m==\u001b[39m \u001b[39mTrue\u001b[39;00m:\n\u001b[1;32m    232\u001b[0m \n\u001b[1;32m    233\u001b[0m         \u001b[39m#if a lying car finds another lying car claiming to be in the same FAKE position, it will add it as its neighbour. \u001b[39;00m\n\u001b[1;32m    234\u001b[0m         \u001b[39m#it will NOT add the other lying car's real position, only its FAKE position\u001b[39;00m\n\u001b[1;32m    236\u001b[0m             \u001b[39mif\u001b[39;00m alleged_nearby_car\u001b[39m.\u001b[39mhonest \u001b[39m==\u001b[39m \u001b[39mFalse\u001b[39;00m \u001b[39mand\u001b[39;00m alleged_nearby_car\u001b[39m.\u001b[39mcoerced \u001b[39m==\u001b[39m \u001b[39mTrue\u001b[39;00m:\n\u001b[1;32m    238\u001b[0m                 x, y \u001b[39m=\u001b[39m alleged_nearby_car\u001b[39m.\u001b[39mget_fake_position_indicies(city\u001b[39m.\u001b[39mgrid_size)\n",
      "\u001b[0;31mKeyboardInterrupt\u001b[0m: "
     ]
    }
   ],
   "source": [
    "\n",
    "number_of_cars = 50000\n",
    "depth = 2\n",
    "witness_number_per_depth = [2, 2, 2]\n",
    "threshold = 1\n",
    "\n",
    "\n",
    "target_path = '/tpop/t1_' + str(number_of_cars) + '/'\n",
    "\n",
    "path = tsim.make_directory(target_path)\n",
    "\n",
    "\n",
    "simulation_id = 0\n",
    "\n",
    "f = open(\"t1__simulation_pathfiles.txt\", \"w+\")\n",
    "\n",
    "\n",
    "for probability_honest in range(0, 110, 10):\n",
    "    probability_honest = probability_honest/100\n",
    "\n",
    "    for probability_coerced in range(0, 110, 10):\n",
    "        \n",
    "        probability_coerced = probability_coerced/100\n",
    "    \n",
    "        number_of_simulations = 5\n",
    "\n",
    "        simulation_id += 1\n",
    "\n",
    "        sim_df = tsim.tpop_simulator(number_of_simulations, number_of_cars, probability_honest, probability_coerced, depth, witness_number_per_depth, threshold)\n",
    "\n",
    "        sim_pathfile = tsim.save_simulation(sim_df, path, str(simulation_id) + 'p_honest' + str(probability_honest*100) + 'p_coerced' + str(probability_coerced*100)) \n",
    "\n",
    "        #saving the pathfiles of each simulation in the following text file.\n",
    "        print('saving sim: ', str(simulation_id) + 'p_honest' + str(probability_honest*100) + 'p_coerced' + str(probability_coerced*100))\n",
    "        f=open(\"t1_simulation_pathfiles.txt\", \"a+\")\n",
    "        f.write(sim_pathfile+'\\n')\n",
    "        f.close()"
   ]
  },
  {
   "attachments": {},
   "cell_type": "markdown",
   "metadata": {},
   "source": [
    "## T-PoP with depth 2, threshold 66% and witness_number_per_depth = [3, 3]. 1000 cars in total"
   ]
  },
  {
   "cell_type": "code",
   "execution_count": null,
   "metadata": {},
   "outputs": [],
   "source": [
    "number_of_cars = 5000\n",
    "depth = 2\n",
    "witness_number_per_depth = [3, 3]\n",
    "threshold = 0.66\n",
    "\n",
    "\n",
    "target_path = '/tpop/t66_n2_d2/'\n",
    "\n",
    "path = tsim.make_directory(target_path)\n",
    "\n",
    "\n",
    "simulation_id = 0\n",
    "\n",
    "f = open(\"tpop_t66_n2_d2_simulation_pathfiles.txt\", \"w+\")\n",
    "\n",
    "\n",
    "for probability_lying in range(0, 110, 10):\n",
    "    probability_lying = probability_lying/100\n",
    "\n",
    "    for probability_coerced in range(0, 110, 10):\n",
    "        \n",
    "        probability_coerced = probability_coerced/100\n",
    "    \n",
    "        number_of_simulations = 100\n",
    "\n",
    "        simulation_id += 1\n",
    "\n",
    "        sim_df = tsim.tpop_simulator(number_of_simulations, number_of_cars, probability_lying, probability_coerced, depth, witness_number_per_depth, threshold)\n",
    "\n",
    "        sim_pathfile = tsim.save_simulation(sim_df, path, str(simulation_id) + 'p_lying' + str(probability_lying*100) + 'p_coerced' + str(probability_coerced*100)) \n",
    "\n",
    "        #saving the pathfiles of each simulation in the following text file.\n",
    "        print('saving sim: ', str(simulation_id) + 'p_lying' + str(probability_lying*100) + 'p_coerced' + str(probability_coerced*100))\n",
    "        f=open(\"tpop_t66_n2_d2_simulation_pathfiles.txt\", \"a+\")\n",
    "        f.write(sim_pathfile+'\\n')\n",
    "        f.close()"
   ]
  },
  {
   "attachments": {},
   "cell_type": "markdown",
   "metadata": {},
   "source": [
    "## T-PoP with depth 1, threshold 100% and witness_number_per_depth = [6]. 1000 cars in total"
   ]
  },
  {
   "cell_type": "code",
   "execution_count": null,
   "metadata": {},
   "outputs": [],
   "source": [
    "number_of_cars = 1000\n",
    "depth = 1\n",
    "witness_number_per_depth = [6]\n",
    "\n",
    "\n",
    "target_path = '/tpop/t2n6/'\n",
    "\n",
    "path = tsim.make_directory(target_path)\n",
    "\n",
    "\n",
    "simulation_id = 0\n",
    "\n",
    "f = open(\"tpop2_simulation_pathfiles.txt\", \"w+\")\n",
    "\n",
    "\n",
    "for probability_lying in range(0, 110, 10):\n",
    "    probability_lying = probability_lying/100\n",
    "\n",
    "    for probability_coerced in range(0, 110, 10):\n",
    "        \n",
    "        probability_coerced = probability_coerced/100\n",
    "    \n",
    "        number_of_simulations = 100\n",
    "\n",
    "        simulation_id += 1\n",
    "\n",
    "        sim_df = tsim.tpop_simulator(number_of_simulations, number_of_cars, probability_lying, probability_coerced, depth, witness_number_per_depth)\n",
    "\n",
    "        sim_pathfile = tsim.save_simulation(sim_df, path, str(simulation_id) + 'p_lying' + str(probability_lying*100) + 'p_coerced' + str(probability_coerced*100)) \n",
    "\n",
    "        #saving the pathfiles of each simulation in the following text file.\n",
    "        print('saving sim: ', str(simulation_id) + 'p_lying' + str(probability_lying*100) + 'p_coerced' + str(probability_coerced*100))\n",
    "        f=open(\"tpop2_simulation_pathfiles.txt\", \"a+\")\n",
    "        f.write(sim_pathfile+'\\n')\n",
    "        f.close()"
   ]
  },
  {
   "attachments": {},
   "cell_type": "markdown",
   "metadata": {},
   "source": [
    "## T-PoP with depth 1, threshold 66% and witness_number_per_depth = [6]. 1000 cars in total"
   ]
  },
  {
   "cell_type": "code",
   "execution_count": null,
   "metadata": {},
   "outputs": [],
   "source": [
    "number_of_cars = 1000\n",
    "depth = 1\n",
    "witness_number_per_depth = [6]\n",
    "threshold = 0.66\n",
    "\n",
    "target_path = '/tpop/t66_n6_d1/'\n",
    "\n",
    "path = tsim.make_directory(target_path)\n",
    "\n",
    "\n",
    "simulation_id = 0\n",
    "\n",
    "f = open(\"tpop_t66_n6_d1_simulation_pathfiles.txt\", \"w+\")\n",
    "\n",
    "\n",
    "for probability_lying in range(0, 110, 10):\n",
    "    probability_lying = probability_lying/100\n",
    "\n",
    "    for probability_coerced in range(0, 110, 10):\n",
    "        \n",
    "        probability_coerced = probability_coerced/100\n",
    "    \n",
    "        number_of_simulations = 100\n",
    "\n",
    "        simulation_id += 1\n",
    "\n",
    "        sim_df = tsim.tpop_simulator(number_of_simulations, number_of_cars, probability_lying, probability_coerced, depth, witness_number_per_depth, threshold)\n",
    "\n",
    "        sim_pathfile = tsim.save_simulation(sim_df, path, str(simulation_id) + 'p_lying' + str(probability_lying*100) + 'p_coerced' + str(probability_coerced*100)) \n",
    "\n",
    "        #saving the pathfiles of each simulation in the following text file.\n",
    "        print('saving sim: ', str(simulation_id) + 'p_lying' + str(probability_lying*100) + 'p_coerced' + str(probability_coerced*100))\n",
    "        f=open(\"tpop_t66_n6_d1_simulation_pathfiles.txt\", \"a+\")\n",
    "        f.write(sim_pathfile+'\\n')\n",
    "        f.close()"
   ]
  },
  {
   "cell_type": "code",
   "execution_count": null,
   "metadata": {},
   "outputs": [],
   "source": [
    "import matplotlib.pyplot as plt\n",
    "import pandas as pd\n",
    "\n",
    "directory_pathfile = \"C:\\\\Users\\\\aidam\\\\OneDrive - Imperial College London\\\\Desktop\\\\tpop folder\\\\T-PoP\\\\tpop\\\\t1\"\n",
    "\n",
    "# loading dataset\n",
    "dataset = tsim.full_csv_windows(directory_pathfile)\n",
    "#print(dataset)\n",
    "simulations = pd.DataFrame(dataset)\n",
    "\n",
    "\n",
    "import numpy as np\n",
    "x = 'Probability of lying cars'\n",
    "y = 'Probability of coerced cars'\n",
    "z = 'False Negatives'\n",
    "\n",
    "df_temp = simulations[[x, y, z]].reset_index(drop=True)\n",
    "df_temp = df_temp.groupby([x, y]).mean().reset_index()\n",
    "print(df_temp.sort_values([x, y]))\n",
    "\n",
    "xlist = df_temp[x].values\n",
    "ylist = df_temp[y].values\n",
    "X, Y = np.meshgrid(xlist, ylist)\n",
    "\n",
    "Z = np.zeros(X.shape)\n",
    "#for each FP that equals 0, set it to a very small value below 1/1000 \n",
    "for i in range(X.shape[0]):\n",
    "    for j in range(X.shape[1]):\n",
    "        z_val = df_temp[z][\n",
    "            (df_temp[y] == Y[i, j]) & (df_temp[x] == X[i, j])\n",
    "        ]\n",
    "        if z_val.empty:\n",
    "            Z[i, j] = 0\n",
    "\n",
    "        else:\n",
    "            Z[i, j] = z_val\n",
    "#print(Z)\n",
    "fig,ax=plt.subplots(1,1)\n",
    "cp = ax.contourf(X, Y, Z, vmin = 0.000, vmax = 200, cmap='RdGy', levels = 200)\n",
    "fig.colorbar(cp) # Add a colorbar to a plot\n",
    "ax.set_title(f'Contour plot of `{z}`')\n",
    "ax.set_xlabel(x)\n",
    "ax.set_ylabel(y)\n",
    "#plt.show()\n",
    "\n",
    "\n"
   ]
  },
  {
   "cell_type": "code",
   "execution_count": 11,
   "metadata": {},
   "outputs": [],
   "source": [
    "environment = e.Environment([0,0.1], [0,0.1], 0.1)\n",
    "car_list = []\n",
    "for n in range(10):\n",
    "    car = i.car_gen(1, 1, environment)\n",
    "    car_list.append(car)\n",
    "\n",
    "e.environment_update(car_list, 0.01, environment)"
   ]
  },
  {
   "cell_type": "code",
   "execution_count": null,
   "metadata": {},
   "outputs": [],
   "source": [
    "tree = t.Tree2(car_list[1], 2, [2,2,2])"
   ]
  },
  {
   "cell_type": "code",
   "execution_count": null,
   "metadata": {},
   "outputs": [],
   "source": [
    "verifiedCars = [[True for car in l] for l in tree.nodes]\n",
    "verifiedCars"
   ]
  },
  {
   "cell_type": "code",
   "execution_count": null,
   "metadata": {},
   "outputs": [],
   "source": [
    "t.TPoP(tree, 1, [2,2,2])"
   ]
  },
  {
   "cell_type": "code",
   "execution_count": null,
   "metadata": {},
   "outputs": [],
   "source": [
    "for car in car_list:\n",
    "    print(car.honest, car.coerced)"
   ]
  },
  {
   "cell_type": "code",
   "execution_count": 12,
   "metadata": {},
   "outputs": [
    {
     "name": "stdout",
     "output_type": "stream",
     "text": [
      "2\n"
     ]
    }
   ],
   "source": [
    "counter = 0\n",
    "for car in car_list:\n",
    "    tree = t.Tree2(car, 2, [2,2,2])\n",
    "    if t.TPoP(tree, 1, [2,2,2]):\n",
    "        counter += 1\n",
    "    \n",
    "print(counter)"
   ]
  },
  {
   "cell_type": "code",
   "execution_count": null,
   "metadata": {},
   "outputs": [],
   "source": [
    "verifiedCars = [[True for car in l] for l in tree.nodes]"
   ]
  },
  {
   "cell_type": "code",
   "execution_count": null,
   "metadata": {},
   "outputs": [],
   "source": [
    "tree.nodes[2]"
   ]
  },
  {
   "cell_type": "code",
   "execution_count": null,
   "metadata": {},
   "outputs": [],
   "source": [
    "tree.nodes[1][0].children"
   ]
  },
  {
   "cell_type": "code",
   "execution_count": null,
   "metadata": {},
   "outputs": [],
   "source": [
    "verifiedCars[level + 1][0]"
   ]
  },
  {
   "cell_type": "code",
   "execution_count": null,
   "metadata": {},
   "outputs": [],
   "source": []
  },
  {
   "cell_type": "code",
   "execution_count": null,
   "metadata": {},
   "outputs": [],
   "source": []
  }
 ],
 "metadata": {
  "kernelspec": {
   "display_name": "Python 3",
   "language": "python",
   "name": "python3"
  },
  "language_info": {
   "codemirror_mode": {
    "name": "ipython",
    "version": 3
   },
   "file_extension": ".py",
   "mimetype": "text/x-python",
   "name": "python",
   "nbconvert_exporter": "python",
   "pygments_lexer": "ipython3",
   "version": "3.9.16"
  },
  "orig_nbformat": 4,
  "vscode": {
   "interpreter": {
    "hash": "a665b5d41d17b532ea9890333293a1b812fa0b73c9c25c950b3cedf1bebd0438"
   }
  }
 },
 "nbformat": 4,
 "nbformat_minor": 2
}
